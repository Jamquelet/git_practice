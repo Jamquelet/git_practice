{
 "cells": [
  {
   "cell_type": "markdown",
   "metadata": {},
   "source": [
    "La complejidad algorítmica es una medida de la eficiencia de un algoritmo en términos de los recursos (como tiempo y memoria) que requiere para resolver un problema en función del tamaño de entrada.\n",
    "\n",
    "En Python, la complejidad algorítmica se expresa utilizando la notación \"Big O\" (O grande), que describe el crecimiento asintótico del algoritmo a medida que el tamaño de entrada tiende a infinito.\n",
    "\n",
    "Algunas de las notaciones de complejidad algorítmica comunes en Python incluyen:\n",
    "\n",
    "O(1) (tiempo constante): Indica que el algoritmo tiene una complejidad constante, es decir, el tiempo de ejecución no depende del tamaño de entrada. Ejemplo: acceso a un elemento específico en una lista por índice.\n",
    "\n",
    "O(log n) (tiempo logarítmico): Indica que el tiempo de ejecución del algoritmo aumenta de manera logarítmica a medida que el tamaño de entrada (n) aumenta. Ejemplo: búsqueda binaria en una lista ordenada.\n",
    "\n",
    "O(n) (tiempo lineal): Indica que el tiempo de ejecución del algoritmo crece de manera proporcional al tamaño de entrada (n). Ejemplo: recorrer una lista una vez para realizar una operación en cada elemento.\n",
    "\n",
    "O(n log n) (tiempo linealítmico): Indica que el tiempo de ejecución del algoritmo crece en proporción a n multiplicado por el logaritmo de n. Ejemplo: algoritmo de ordenamiento rápido (quicksort).\n",
    "\n",
    "O(n^2) (tiempo cuadrático): Indica que el tiempo de ejecución del algoritmo aumenta cuadráticamente en función del tamaño de entrada. Ejemplo: bucles anidados que recorren una lista dos veces.\n",
    "\n",
    "O(2^n) (tiempo exponencial): Indica que el tiempo de ejecución del algoritmo crece exponencialmente con respecto al tamaño de entrada. Ejemplo: algoritmo de fuerza bruta para problemas de combinaciones o permutaciones."
   ]
  },
  {
   "cell_type": "code",
   "execution_count": null,
   "metadata": {},
   "outputs": [],
   "source": []
  }
 ],
 "metadata": {
  "language_info": {
   "name": "python"
  },
  "orig_nbformat": 4
 },
 "nbformat": 4,
 "nbformat_minor": 2
}
